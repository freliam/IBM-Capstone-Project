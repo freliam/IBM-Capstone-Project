{
 "cells": [
  {
   "cell_type": "raw",
   "metadata": {},
   "source": []
  },
  {
   "cell_type": "markdown",
   "metadata": {},
   "source": [
    "<h1><font size = 5><center> Battle of the Neighborhoods - Wake vs Mecklenburg Neighborhoods in North Carolina. </center></font></h1>\n",
    "<a><img src = \"http://www.savvyandcompany.com/wp-content/uploads/2016/08/Charlotte-Neighborhoods-Elizabeth3.jpg\" height=\"10\" width=\"1000\", align = \"center\"></a>"
   ]
  },
  {
   "cell_type": "markdown",
   "metadata": {},
   "source": [
    "# Background of the data\n",
    "The dataset for this project consists of information regarding the cities in the USA obtained from https://simplemaps.com/data/us-cities. Specifically, the data contain: City Name, County Code, County Name, Density, Id, Latitude, Longitude, Source, State Id, State Name, and Timezone. Though this data came with the coordinates, i was not sure how good  it is so the coordinates were removed living the city, county, state names etc. Tableau was used for geocoding the data to obtain the correct coordinates. The data was then exported and converted into a .json, read into a pandas dataframe and sliced into Wake and Meclenburg data for use in the project. Besides this data, the **Foursquare API** was be used to collect venues near the neighborhoods for cluster analysis to be performed on the data."
   ]
  },
  {
   "cell_type": "markdown",
   "metadata": {},
   "source": [
    "### Let' import some libraries and view the data in a dataframe"
   ]
  },
  {
   "cell_type": "code",
   "execution_count": 4,
   "metadata": {
    "collapsed": true
   },
   "outputs": [
    {
     "name": "stdout",
     "output_type": "stream",
     "text": [
      "Libraries imported.\n"
     ]
    }
   ],
   "source": [
    "import pandas as pd # library for data analsysis\n",
    "print('Libraries imported.')"
   ]
  },
  {
   "cell_type": "code",
   "execution_count": 6,
   "metadata": {},
   "outputs": [
    {
     "name": "stdout",
     "output_type": "stream",
     "text": [
      "The dataframe has (36651, 11) rows and columns respectively.\n"
     ]
    },
    {
     "data": {
      "text/html": [
       "<div>\n",
       "<style scoped>\n",
       "    .dataframe tbody tr th:only-of-type {\n",
       "        vertical-align: middle;\n",
       "    }\n",
       "\n",
       "    .dataframe tbody tr th {\n",
       "        vertical-align: top;\n",
       "    }\n",
       "\n",
       "    .dataframe thead th {\n",
       "        text-align: right;\n",
       "    }\n",
       "</style>\n",
       "<table border=\"1\" class=\"dataframe\">\n",
       "  <thead>\n",
       "    <tr style=\"text-align: right;\">\n",
       "      <th></th>\n",
       "      <th>City Name</th>\n",
       "      <th>County Code</th>\n",
       "      <th>County Name</th>\n",
       "      <th>Density</th>\n",
       "      <th>Id</th>\n",
       "      <th>Latitude</th>\n",
       "      <th>Longitude</th>\n",
       "      <th>Source</th>\n",
       "      <th>State Id</th>\n",
       "      <th>State Name</th>\n",
       "      <th>Timezone</th>\n",
       "    </tr>\n",
       "  </thead>\n",
       "  <tbody>\n",
       "    <tr>\n",
       "      <th>0</th>\n",
       "      <td>Prairie Ridge</td>\n",
       "      <td>53053</td>\n",
       "      <td>Pierce</td>\n",
       "      <td>1349.8</td>\n",
       "      <td>1840037882</td>\n",
       "      <td>47.1443</td>\n",
       "      <td>-122.1408</td>\n",
       "      <td>polygon</td>\n",
       "      <td>WA</td>\n",
       "      <td>Washington</td>\n",
       "      <td>America/Los_Angeles</td>\n",
       "    </tr>\n",
       "    <tr>\n",
       "      <th>1</th>\n",
       "      <td>Edison</td>\n",
       "      <td>53057</td>\n",
       "      <td>Skagit</td>\n",
       "      <td>127.4</td>\n",
       "      <td>1840017314</td>\n",
       "      <td>48.5602</td>\n",
       "      <td>-122.4311</td>\n",
       "      <td>polygon</td>\n",
       "      <td>WA</td>\n",
       "      <td>Washington</td>\n",
       "      <td>America/Los_Angeles</td>\n",
       "    </tr>\n",
       "    <tr>\n",
       "      <th>2</th>\n",
       "      <td>Packwood</td>\n",
       "      <td>53041</td>\n",
       "      <td>Lewis</td>\n",
       "      <td>213.9</td>\n",
       "      <td>1840025265</td>\n",
       "      <td>46.6085</td>\n",
       "      <td>-121.6702</td>\n",
       "      <td>polygon</td>\n",
       "      <td>WA</td>\n",
       "      <td>Washington</td>\n",
       "      <td>America/Los_Angeles</td>\n",
       "    </tr>\n",
       "    <tr>\n",
       "      <th>3</th>\n",
       "      <td>Wautauga Beach</td>\n",
       "      <td>53035</td>\n",
       "      <td>Kitsap</td>\n",
       "      <td>261.7</td>\n",
       "      <td>1840037725</td>\n",
       "      <td>47.5862</td>\n",
       "      <td>-122.5482</td>\n",
       "      <td>point</td>\n",
       "      <td>WA</td>\n",
       "      <td>Washington</td>\n",
       "      <td>America/Los_Angeles</td>\n",
       "    </tr>\n",
       "    <tr>\n",
       "      <th>4</th>\n",
       "      <td>Harper</td>\n",
       "      <td>53035</td>\n",
       "      <td>Kitsap</td>\n",
       "      <td>342.1</td>\n",
       "      <td>1840037659</td>\n",
       "      <td>47.5207</td>\n",
       "      <td>-122.5196</td>\n",
       "      <td>point</td>\n",
       "      <td>WA</td>\n",
       "      <td>Washington</td>\n",
       "      <td>America/Los_Angeles</td>\n",
       "    </tr>\n",
       "  </tbody>\n",
       "</table>\n",
       "</div>"
      ],
      "text/plain": [
       "        City Name  County Code County Name  Density          Id  Latitude  \\\n",
       "0   Prairie Ridge        53053      Pierce   1349.8  1840037882   47.1443   \n",
       "1          Edison        53057      Skagit    127.4  1840017314   48.5602   \n",
       "2        Packwood        53041       Lewis    213.9  1840025265   46.6085   \n",
       "3  Wautauga Beach        53035      Kitsap    261.7  1840037725   47.5862   \n",
       "4          Harper        53035      Kitsap    342.1  1840037659   47.5207   \n",
       "\n",
       "   Longitude   Source State Id  State Name             Timezone  \n",
       "0  -122.1408  polygon       WA  Washington  America/Los_Angeles  \n",
       "1  -122.4311  polygon       WA  Washington  America/Los_Angeles  \n",
       "2  -121.6702  polygon       WA  Washington  America/Los_Angeles  \n",
       "3  -122.5482    point       WA  Washington  America/Los_Angeles  \n",
       "4  -122.5196    point       WA  Washington  America/Los_Angeles  "
      ]
     },
     "execution_count": 6,
     "metadata": {},
     "output_type": "execute_result"
    }
   ],
   "source": [
    "json_data = '/resources/data/some_us_cities-coordinates.json'\n",
    "df = pd.read_json(json_data, orient='columns')\n",
    "print('The dataframe has', df.shape, 'rows and columns respectively.')\n",
    "df.head()"
   ]
  },
  {
   "cell_type": "code",
   "execution_count": null,
   "metadata": {},
   "outputs": [],
   "source": []
  }
 ],
 "metadata": {
  "kernelspec": {
   "display_name": "Python 3",
   "language": "python",
   "name": "python3"
  },
  "language_info": {
   "codemirror_mode": {
    "name": "ipython",
    "version": 3
   },
   "file_extension": ".py",
   "mimetype": "text/x-python",
   "name": "python",
   "nbconvert_exporter": "python",
   "pygments_lexer": "ipython3",
   "version": "3.6.5"
  },
  "widgets": {
   "state": {},
   "version": "1.1.2"
  }
 },
 "nbformat": 4,
 "nbformat_minor": 2
}
