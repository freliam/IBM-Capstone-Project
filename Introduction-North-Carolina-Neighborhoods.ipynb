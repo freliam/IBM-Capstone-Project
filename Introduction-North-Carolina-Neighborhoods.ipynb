{
 "cells": [
  {
   "cell_type": "raw",
   "metadata": {},
   "source": []
  },
  {
   "cell_type": "markdown",
   "metadata": {},
   "source": [
    "<h1><font size = 5><center> Battle of the Neighborhoods - Wake vs Mecklenburg Neighborhoods in North Carolina. </center></font></h1>\n",
    "<a><img src = \"http://www.savvyandcompany.com/wp-content/uploads/2016/08/Charlotte-Neighborhoods-Elizabeth3.jpg\" height=\"10\" width=\"1000\", align = \"center\"></a>"
   ]
  },
  {
   "cell_type": "markdown",
   "metadata": {},
   "source": [
    "# Introduction\n",
    "\n",
    "When someone or a family is trying to find the best places to live, it's always a good idea to compare cities and if possible, to compare neighborhoods to see if it suites your taste. After all, when you go to buy a car or a house or any big ticket item, you usually try out a few models or visit a few homes before you decide. The same tactic applies to finding the best places to live. It is always advisable to do it before you start planning your move or to help narrow down your choices.\n",
    "\n",
    "When thinking about the best place to live, lots of things are considered when trying to make a comparison between cities, towns, or neighborhoods. Some of theses includes:\n",
    "\n",
    "- **Overall Comparison:** This is a comparison of the same factors for each city, resulting in having a general overview of the two cities. Some of the popular factors include population, cost of living, average rent, crime rate, tax rates, and air quality.\n",
    "\n",
    "- **Crime Rates:** Here, the comparison is made to know the crime rates of two cities, then measures them both against the national statistics.\n",
    "\n",
    "- **Cost of Living and Salary Comparison:** This takes into account comparing salaries and cost of living within cities for a decision to be made. Some factors for this comparison includes statistics on food, housing, utilities, transportation and more. This is a useful way to find out if your salary will measure up in the new city.\n",
    "\n",
    "- **Compare Schools:**  This is helpful in finding the best school in a vicinity by doing a comparison between different places. It mostly takes into consideration  test scores and teacher and student ratios, including the teacher's experience of the lists schools in the city of your choice. \n",
    "\n",
    "- **Neighborhood Comparison:** This looks at neighborhood comparison and helps one choose the best place to live within any given city. These sites allow you to see some pretty interesting facts about the various communities.\n",
    "\n"
   ]
  },
  {
   "cell_type": "markdown",
   "metadata": {},
   "source": [
    "# Problem and Purpose of this Project\n",
    "The data set includes the coordinates of the cities/neighborhoods in the USA. However, it does not include the venues within these locations. \n",
    "If we had the venue information, we could easily find out more information about the neighborhoods. For example, how many restaurants are there, are there parks or cinemas? What about banks and glossary stores? If all these information are known, we could better understand or make educated decision about where to move or relocate to.\n",
    "\n",
    "Hence, the purpose of this project is to, algorithmically, find a way to use the location coordinates and tag each data point into a neighborhood in two Counties in North Carolina-**Wake County** and **Mecklenburg County**. The algorithm used is **k-means clustering**. The main idea is to determine neighborhood with venues clustered around each other so that one can make a decision on the right neighborhood to chose based on the proximity of amenities and venues to each other.\n",
    "\n",
    "**NOTE:** While all of these analyses are useful for comparing the neighborhoods, there is nothing like visiting the actual city, seeing the neighborhoods, and speaking with residents. If it's possible, an in-person visit is highly recommended before making a big move or relocating decision."
   ]
  },
  {
   "cell_type": "markdown",
   "metadata": {},
   "source": [
    "# k-means Clustering\n",
    "The k-means clustering algorithm is an unsupervised clustering technique searches for a pre-determined number of clusters within an unlabeled multidimensional dataset. It accomplishes this using a simple conception of what the optimal clustering looks like:\n",
    "\n",
    "- The \"cluster center\" is the arithmetic mean of all the points belonging to the cluster. \n",
    "- Each point is closer to its own cluster center than to other cluster centers in the dataset.\n",
    "\n",
    "The two assumptions above are presumably the basis of the k-means model. "
   ]
  },
  {
   "cell_type": "code",
   "execution_count": null,
   "metadata": {},
   "outputs": [],
   "source": []
  }
 ],
 "metadata": {
  "kernelspec": {
   "display_name": "Python 3",
   "language": "python",
   "name": "python3"
  },
  "language_info": {
   "codemirror_mode": {
    "name": "ipython",
    "version": 3
   },
   "file_extension": ".py",
   "mimetype": "text/x-python",
   "name": "python",
   "nbconvert_exporter": "python",
   "pygments_lexer": "ipython3",
   "version": "3.6.5"
  },
  "widgets": {
   "state": {},
   "version": "1.1.2"
  }
 },
 "nbformat": 4,
 "nbformat_minor": 2
}
